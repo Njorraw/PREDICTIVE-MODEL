{
  "nbformat": 4,
  "nbformat_minor": 0,
  "metadata": {
    "colab": {
      "provenance": [],
      "authorship_tag": "ABX9TyMBJMFeDPam/W5EULyF3/jp",
      "include_colab_link": true
    },
    "kernelspec": {
      "name": "python3",
      "display_name": "Python 3"
    },
    "language_info": {
      "name": "python"
    }
  },
  "cells": [
    {
      "cell_type": "markdown",
      "metadata": {
        "id": "view-in-github",
        "colab_type": "text"
      },
      "source": [
        "<a href=\"https://colab.research.google.com/github/Njorraw/PREDICTIVE-MODEL/blob/main/Untitled0.ipynb\" target=\"_parent\"><img src=\"https://colab.research.google.com/assets/colab-badge.svg\" alt=\"Open In Colab\"/></a>"
      ]
    },
    {
      "cell_type": "code",
      "source": [
        "import pandas as pd\n",
        "\n",
        "# Sample dataset representing historical student enrollment data, academic records, and demographic data\n",
        "data = {\n",
        "    'student_id': [1, 2, 3, 4, 5],\n",
        "    'age': [18, 19, 20, 21, 22],\n",
        "    'gender': ['M', 'F', 'M', 'F', 'M'],\n",
        "    'ethnicity': ['Asian', 'Caucasian', 'Hispanic', 'African American', 'Other'],\n",
        "    'high_school_gpa': [3.8, 3.5, 3.2, 3.9, 3.6],\n",
        "    'standardized_test_score': [1200, 1150, 1080, 1320, 1250],\n",
        "    'course_grades': [[90, 85, 92], [88, 82, 86], [75, 72, 78], [95, 92, 98], [89, 84, 91]],\n",
        "    'attendance_rate': [0.95, 0.92, 0.88, 0.98, 0.94],\n",
        "    'extracurricular_activities': ['Sports, Music', 'Debate, Science Club', 'None', 'Student Council, Volunteer', 'Art Club, Drama'],\n",
        "    'program_interest': [5, 4, 3, 5, 4],\n",
        "    'prior_experience': ['Yes', 'No', 'No', 'Yes', 'No'],\n",
        "    'declared_major': ['Computer Science', 'English', 'Business', 'Engineering', 'Psychology'],\n",
        "    'career_goals': ['Software Engineer', 'Writer', 'Entrepreneur', 'Engineer', 'Therapist'],\n",
        "    'enrollment_status': ['Enrolled', 'Enrolled', 'Not Enrolled', 'Enrolled', 'Enrolled'],\n",
        "    'graduation_status': ['Graduated', 'Graduated', 'Did Not Graduate', 'Expected to Graduate', 'Expected to Graduate']\n",
        "}\n",
        "\n",
        "df = pd.DataFrame(data)\n",
        "\n",
        "# Display the dataset\n",
        "print(df.to_string())"
      ],
      "metadata": {
        "colab": {
          "base_uri": "https://localhost:8080/"
        },
        "id": "RKHhhIw__mHa",
        "outputId": "c9f47af5-5f59-4b22-c3b8-92daf6467a58"
      },
      "execution_count": 12,
      "outputs": [
        {
          "output_type": "stream",
          "name": "stdout",
          "text": [
            "   student_id  age gender         ethnicity  high_school_gpa  standardized_test_score course_grades  attendance_rate  extracurricular_activities  program_interest prior_experience    declared_major       career_goals enrollment_status     graduation_status\n",
            "0           1   18      M             Asian              3.8                     1200  [90, 85, 92]             0.95               Sports, Music                 5              Yes  Computer Science  Software Engineer          Enrolled             Graduated\n",
            "1           2   19      F         Caucasian              3.5                     1150  [88, 82, 86]             0.92        Debate, Science Club                 4               No           English             Writer          Enrolled             Graduated\n",
            "2           3   20      M          Hispanic              3.2                     1080  [75, 72, 78]             0.88                        None                 3               No          Business       Entrepreneur      Not Enrolled      Did Not Graduate\n",
            "3           4   21      F  African American              3.9                     1320  [95, 92, 98]             0.98  Student Council, Volunteer                 5              Yes       Engineering           Engineer          Enrolled  Expected to Graduate\n",
            "4           5   22      M             Other              3.6                     1250  [89, 84, 91]             0.94             Art Club, Drama                 4               No        Psychology          Therapist          Enrolled  Expected to Graduate\n"
          ]
        }
      ]
    },
    {
      "cell_type": "code",
      "source": [
        "import pandas as pd\n",
        "from sklearn.preprocessing import LabelEncoder\n",
        "from sklearn.model_selection import train_test_split\n",
        "from sklearn.ensemble import RandomForestClassifier\n",
        "from sklearn.metrics import accuracy_score, precision_score, recall_score\n",
        "\n",
        "# Load the data from the provided dictionary\n",
        "data = {\n",
        "    'student_id': [1, 2, 3, 4, 5],\n",
        "    'age': [18, 19, 20, 21, 22],\n",
        "    'gender': ['M', 'F', 'M', 'F', 'M'],\n",
        "    'ethnicity': ['Asian', 'Caucasian', 'Hispanic', 'African American', 'Other'],\n",
        "    'high_school_gpa': [3.8, 3.5, 3.2, 3.9, 3.6],\n",
        "    'standardized_test_score': [1200, 1150, 1080, 1320, 1250],\n",
        "    'course_grades': [[90, 85, 92], [88, 82, 86], [75, 72, 78], [95, 92, 98], [89, 84, 91]],\n",
        "    'attendance_rate': [0.95, 0.92, 0.88, 0.98, 0.94],\n",
        "    'extracurricular_activities': ['Sports, Music', 'Debate, Science Club', 'None', 'Student Council, Volunteer', 'Art Club, Drama'],\n",
        "    'program_interest': [5, 4, 3, 5, 4],\n",
        "    'prior_experience': ['Yes', 'No', 'No', 'Yes', 'No'],\n",
        "    'declared_major': ['Computer Science', 'English', 'Business', 'Engineering', 'Psychology'],\n",
        "    'career_goals': ['Software Engineer', 'Writer', 'Entrepreneur', 'Engineer', 'Therapist'],\n",
        "    'enrollment_status': ['Enrolled', 'Enrolled', 'Not Enrolled', 'Enrolled', 'Enrolled'],\n",
        "    'graduation_status': ['Graduated', 'Graduated', 'Did Not Graduate', 'Expected to Graduate', 'Expected to Graduate']\n",
        "}\n",
        "\n",
        "df = pd.DataFrame(data)\n",
        "\n",
        "# Encode the categorical features using LabelEncoder\n",
        "le = LabelEncoder()\n",
        "df['gender'] = le.fit_transform(df['gender'])\n",
        "df['ethnicity'] = le.fit_transform(df['ethnicity'])\n",
        "df['extracurricular_activities'] = le.fit_transform(df['extracurricular_activities'])\n",
        "df['prior_experience'] = le.fit_transform(df['prior_experience'])\n",
        "df['declared_major'] = le.fit_transform(df['declared_major'])\n",
        "df['career_goals'] = le.fit_transform(df['career_goals'])\n",
        "\n",
        "# Flatten the 'course_grades' list and create new columns for each grade\n",
        "df[['grade1', 'grade2', 'grade3']] = pd.DataFrame(df['course_grades'].tolist(), index=df.index)\n",
        "\n",
        "# Separate features and target variable\n",
        "X = df[['age', 'gender', 'ethnicity', 'high_school_gpa', 'standardized_test_score', 'grade1', 'grade2', 'grade3', 'attendance_rate', 'extracurricular_activities', 'program_interest', 'prior_experience', 'declared_major', 'career_goals']]\n",
        "y = df['enrollment_status']\n",
        "\n",
        "# Split the data into training and testing sets\n",
        "X_train, X_test, y_train, y_test = train_test_split(X, y, test_size=0.2, random_state=42)\n",
        "\n",
        "# Create and train the model\n",
        "model = RandomForestClassifier()\n",
        "model.fit(X_train, y_train)\n",
        "\n",
        "# Make predictions on the test set\n",
        "y_pred = model.predict(X_test)\n",
        "\n",
        "# Evaluate the model's performance\n",
        "accuracy = accuracy_score(y_test, y_pred)\n",
        "precision = precision_score(y_test, y_pred, average='weighted')\n",
        "recall = recall_score(y_test, y_pred, average='weighted')\n",
        "\n",
        "print('Accuracy:', accuracy)\n",
        "print('Precision:', precision)\n",
        "print('Recall:', recall)\n"
      ],
      "metadata": {
        "colab": {
          "base_uri": "https://localhost:8080/"
        },
        "id": "5j4OY3ZJK3tF",
        "outputId": "58a5a6a3-f510-42bd-9bfd-95016eb8b4c4"
      },
      "execution_count": 22,
      "outputs": [
        {
          "output_type": "stream",
          "name": "stdout",
          "text": [
            "Accuracy: 1.0\n",
            "Precision: 1.0\n",
            "Recall: 1.0\n"
          ]
        }
      ]
    },
    {
      "cell_type": "code",
      "source": [
        "import pandas as pd\n",
        "from sklearn.preprocessing import LabelEncoder\n",
        "from sklearn.model_selection import train_test_split\n",
        "from sklearn.ensemble import RandomForestClassifier\n",
        "from sklearn.metrics import accuracy_score, precision_score, recall_score\n",
        "\n",
        "# Load the data from the provided dictionary\n",
        "data = {\n",
        "    'student_id': [1, 2, 3, 4, 5],\n",
        "    'age': [18, 19, 20, 21, 22],\n",
        "    'gender': ['M', 'F', 'M', 'F', 'M'],\n",
        "    'ethnicity': ['Asian', 'Caucasian', 'Hispanic', 'African American', 'Other'],\n",
        "    'high_school_gpa': [3.8, 3.5, 3.2, 3.9, 3.6],\n",
        "    'standardized_test_score': [1200, 1150, 1080, 1320, 1250],\n",
        "    'course_grades': [[90, 85, 92], [88, 82, 86], [75, 72, 78], [95, 92, 98], [89, 84, 91]],\n",
        "    'attendance_rate': [0.95, 0.92, 0.88, 0.98, 0.94],\n",
        "    'extracurricular_activities': ['Sports, Music', 'Debate, Science Club', 'None', 'Student Council, Volunteer', 'Art Club, Drama'],\n",
        "    'program_interest': [5, 4, 3, 5, 4],\n",
        "    'prior_experience': ['Yes', 'No', 'No', 'Yes', 'No'],\n",
        "    'declared_major': ['Computer Science', 'English', 'Business', 'Engineering', 'Psychology'],\n",
        "    'career_goals': ['Software Engineer', 'Writer', 'Entrepreneur', 'Engineer', 'Therapist'],\n",
        "    'enrollment_status': ['Enrolled in Program A', 'Enrolled in Program B', 'Not Enrolled', 'Enrolled in Program A', 'Enrolled in Program B'],\n",
        "    'graduation_status': ['Graduated', 'Graduated', 'Did Not Graduate', 'Expected to Graduate', 'Expected to Graduate']\n",
        "}\n",
        "\n",
        "df = pd.DataFrame(data)\n",
        "\n",
        "# Encode the categorical features using LabelEncoder\n",
        "le = LabelEncoder()\n",
        "df['gender'] = le.fit_transform(df['gender'])\n",
        "df['ethnicity'] = le.fit_transform(df['ethnicity'])\n",
        "df['extracurricular_activities'] = le.fit_transform(df['extracurricular_activities'])\n",
        "df['prior_experience'] = le.fit_transform(df['prior_experience'])\n",
        "df['declared_major'] = le.fit_transform(df['declared_major'])\n",
        "df['career_goals'] = le.fit_transform(df['career_goals'])\n",
        "\n",
        "# Flatten the 'course_grades' list and create new columns for each grade\n",
        "df[['grade1', 'grade2', 'grade3']] = pd.DataFrame(df['course_grades'].tolist(), index=df.index)\n",
        "\n",
        "# Define new target variable for enrollment and support prediction\n",
        "df['enrollment_category'] = ['Likely to Enroll' if status.startswith('Enrolled') else 'Needs Additional Support' for status in df['enrollment_status']]\n",
        "\n",
        "# Separate features and new target variable\n",
        "X = df[['age', 'gender', 'ethnicity', 'high_school_gpa', 'standardized_test_score', 'grade1', 'grade2', 'grade3', 'attendance_rate', 'extracurricular_activities', 'program_interest', 'prior_experience', 'declared_major', 'career_goals']]\n",
        "y = df['enrollment_category']\n",
        "\n",
        "# Split the data into training and testing sets\n",
        "X_train, X_test, y_train, y_test = train_test_split(X, y, test_size=0.2, random_state=42)\n",
        "\n",
        "# Create and train the model\n",
        "model = RandomForestClassifier()\n",
        "model.fit(X_train, y_train)\n",
        "\n",
        "# Make predictions on the test set\n",
        "y_pred = model.predict(X_test)\n",
        "\n",
        "# Evaluate the model's performance\n",
        "accuracy = accuracy_score(y_test, y_pred)\n",
        "precision = precision_score(y_test, y_pred, average='weighted')\n",
        "recall = recall_score(y_test, y_pred, average='weighted')\n",
        "\n",
        "print('Accuracy:', accuracy)\n",
        "print('Precision:', precision)\n",
        "print('Recall:', recall)\n"
      ],
      "metadata": {
        "colab": {
          "base_uri": "https://localhost:8080/"
        },
        "id": "aS0EWluambRC",
        "outputId": "5529ef21-b33a-4b20-b9ed-b18d62f59964"
      },
      "execution_count": 26,
      "outputs": [
        {
          "output_type": "stream",
          "name": "stdout",
          "text": [
            "Accuracy: 1.0\n",
            "Precision: 1.0\n",
            "Recall: 1.0\n"
          ]
        }
      ]
    },
    {
      "cell_type": "code",
      "source": [
        "import pandas as pd\n",
        "from sklearn.preprocessing import LabelEncoder\n",
        "from sklearn.model_selection import train_test_split\n",
        "from sklearn.ensemble import RandomForestClassifier\n",
        "from sklearn.metrics import accuracy_score, precision_score, recall_score\n",
        "\n",
        "# Load the data from the provided dictionary\n",
        "data = {\n",
        "    'student_id': [1, 2, 3, 4, 5],\n",
        "    'age': [18, 19, 20, 21, 22],\n",
        "    'gender': ['M', 'F', 'M', 'F', 'M'],\n",
        "    'ethnicity': ['Asian', 'Caucasian', 'Hispanic', 'African American', 'Other'],\n",
        "    'high_school_gpa': [3.8, 3.5, 3.2, 3.9, 3.6],\n",
        "    'standardized_test_score': [1200, 1150, 1080, 1320, 1250],\n",
        "    'course_grades': [[90, 85, 92], [88, 82, 86], [75, 72, 78], [95, 92, 98], [89, 84, 91]],\n",
        "    'attendance_rate': [0.95, 0.92, 0.88, 0.98, 0.94],\n",
        "    'extracurricular_activities': ['Sports, Music', 'Debate, Science Club', 'None', 'Student Council, Volunteer', 'Art Club, Drama'],\n",
        "    'program_interest': [5, 4, 3, 5, 4],\n",
        "    'prior_experience': ['Yes', 'No', 'No', 'Yes', 'No'],\n",
        "    'declared_major': ['Computer Science', 'English', 'Business', 'Engineering', 'Psychology'],\n",
        "    'career_goals': ['Software Engineer', 'Writer', 'Entrepreneur', 'Engineer', 'Therapist'],\n",
        "    'enrollment_status': ['Enrolled in Program A', 'Enrolled in Program B', 'Not Enrolled', 'Enrolled in Program A', 'Enrolled in Program B'],\n",
        "    'graduation_status': ['Graduated', 'Graduated', 'Did Not Graduate', 'Expected to Graduate', 'Expected to Graduate']\n",
        "}\n",
        "\n",
        "df = pd.DataFrame(data)\n",
        "\n",
        "# Encode the categorical features using LabelEncoder\n",
        "le = LabelEncoder()\n",
        "df['gender'] = le.fit_transform(df['gender'])\n",
        "df['ethnicity'] = le.fit_transform(df['ethnicity'])\n",
        "df['extracurricular_activities'] = le.fit_transform(df['extracurricular_activities'])\n",
        "df['prior_experience'] = le.fit_transform(df['prior_experience'])\n",
        "df['declared_major'] = le.fit_transform(df['declared_major'])\n",
        "df['career_goals'] = le.fit_transform(df['career_goals'])\n",
        "\n",
        "# Flatten the 'course_grades' list and create new columns for each grade\n",
        "df[['grade1', 'grade2', 'grade3']] = pd.DataFrame(df['course_grades'].tolist(), index=df.index)\n",
        "\n",
        "# Define new target variable for enrollment and support prediction\n",
        "df['enrollment_category'] = ['Likely to Enroll' if status.startswith('Enrolled') else 'Needs Additional Support' for status in df['enrollment_status']]\n",
        "\n",
        "# Separate features and new target variable\n",
        "X = df[['age', 'gender', 'ethnicity', 'high_school_gpa', 'standardized_test_score', 'grade1', 'grade2', 'grade3', 'attendance_rate', 'extracurricular_activities', 'program_interest', 'prior_experience', 'declared_major', 'career_goals']]\n",
        "y = df['enrollment_category']\n",
        "\n",
        "# Split the data into training and testing sets\n",
        "X_train, X_test, y_train, y_test = train_test_split(X, y, test_size=0.2, random_state=42)\n",
        "\n",
        "# Create and train the model\n",
        "model = RandomForestClassifier()\n",
        "model.fit(X_train, y_train)\n",
        "\n",
        "# Make predictions on the test set\n",
        "y_pred = model.predict(X_test)\n",
        "\n",
        "# Evaluate the model's performance\n",
        "accuracy = accuracy_score(y_test, y_pred)\n",
        "precision = precision_score(y_test, y_pred, average='weighted')\n",
        "recall = recall_score(y_test, y_pred, average='weighted')\n",
        "\n",
        "print('Accuracy:', accuracy)\n",
        "print('Precision:', precision)\n",
        "print('Recall:', recall)\n"
      ],
      "metadata": {
        "colab": {
          "base_uri": "https://localhost:8080/"
        },
        "id": "5QEW547VoB9D",
        "outputId": "ebbc316b-a65c-475c-da58-46e1fde30195"
      },
      "execution_count": 29,
      "outputs": [
        {
          "output_type": "stream",
          "name": "stdout",
          "text": [
            "Accuracy: 1.0\n",
            "Precision: 1.0\n",
            "Recall: 1.0\n"
          ]
        }
      ]
    },
    {
      "cell_type": "code",
      "source": [
        "import pandas as pd\n",
        "from sklearn.preprocessing import LabelEncoder\n",
        "from sklearn.model_selection import train_test_split\n",
        "from sklearn.ensemble import RandomForestClassifier\n",
        "from sklearn.metrics import accuracy_score, precision_score, recall_score\n",
        "import matplotlib.pyplot as plt\n",
        "import numpy as np\n",
        "\n",
        "# Load the data from the provided dictionary\n",
        "data = {\n",
        "    'student_id': [1, 2, 3, 4, 5],\n",
        "    'age': [18, 19, 20, 21, 22],\n",
        "    'gender': ['M', 'F', 'M', 'F', 'M'],\n",
        "    'ethnicity': ['Asian', 'Caucasian', 'Hispanic', 'African American', 'Other'],\n",
        "    'high_school_gpa': [3.8, 3.5, 3.2, 3.9, 3.6],\n",
        "    'standardized_test_score': [1200, 1150, 1080, 1320, 1250],\n",
        "    'course_grades': [[90, 85, 92], [88, 82, 86], [75, 72, 78], [95, 92, 98], [89, 84, 91]],\n",
        "    'attendance_rate': [0.95, 0.92, 0.88, 0.98, 0.94],\n",
        "    'extracurricular_activities': ['Sports, Music', 'Debate, Science Club', 'None', 'Student Council, Volunteer', 'Art Club, Drama'],\n",
        "    'program_interest': [5, 4, 3, 5, 4],\n",
        "    'prior_experience': ['Yes', 'No', 'No', 'Yes', 'No'],\n",
        "    'declared_major': ['Computer Science', 'English', 'Business', 'Engineering', 'Psychology'],\n",
        "    'career_goals': ['Software Engineer', 'Writer', 'Entrepreneur', 'Engineer', 'Therapist'],\n",
        "    'enrollment_status': ['Enrolled in Program A', 'Enrolled in Program B', 'Not Enrolled', 'Enrolled in Program A', 'Enrolled in Program B'],\n",
        "    'graduation_status': ['Graduated', 'Graduated', 'Did Not Graduate', 'Expected to Graduate', 'Expected to Graduate']\n",
        "}\n",
        "\n",
        "df = pd.DataFrame(data)\n",
        "\n",
        "# Encode the categorical features using LabelEncoder\n",
        "le = LabelEncoder()\n",
        "df['gender'] = le.fit_transform(df['gender'])\n",
        "df['ethnicity'] = le.fit_transform(df['ethnicity'])\n",
        "df['extracurricular_activities'] = le.fit_transform(df['extracurricular_activities'])\n",
        "df['prior_experience'] = le.fit_transform(df['prior_experience'])\n",
        "df['declared_major'] = le.fit_transform(df['declared_major'])\n",
        "df['career_goals'] = le.fit_transform(df['career_goals'])\n",
        "\n",
        "# Flatten the 'course_grades' list and create new columns for each grade\n",
        "df[['grade1', 'grade2', 'grade3']] = pd.DataFrame(df['course_grades'].tolist(), index=df.index)\n",
        "\n",
        "# Define new target variable for enrollment and support prediction\n",
        "df['enrollment_category'] = np.random.choice(['Likely to Enroll', 'Needs Additional Support'], size=len(df), p=[0.8, 0.2])\n",
        "\n",
        "# Separate features and new target variable\n",
        "X = df[['age', 'gender', 'ethnicity', 'high_school_gpa', 'standardized_test_score', 'grade1', 'grade2', 'grade3', 'attendance_rate', 'extracurricular_activities', 'program_interest', 'prior_experience', 'declared_major', 'career_goals']]\n",
        "y = df['enrollment_category']\n",
        "\n",
        "# Split the data into training and testing sets\n",
        "X_train, X_test, y_train, y_test = train_test_split(X, y, test_size=0.2, random_state=42)\n",
        "\n",
        "# Create and train the model\n",
        "model = RandomForestClassifier()\n",
        "model.fit(X_train, y_train)\n",
        "\n",
        "# Make predictions on the test set\n",
        "y_pred = model.predict(X_test)\n",
        "\n",
        "# Evaluate the model's performance\n",
        "accuracy = accuracy_score(y_test, y_pred)\n",
        "precision = precision_score(y_test, y_pred, average='weighted')\n",
        "recall = recall_score(y_test, y_pred, average='weighted')\n",
        "print('Accuracy:', accuracy)\n",
        "print('Precision:', precision)\n",
        "print('Recall:', recall)\n",
        "labels = ['Likely to Enroll', 'Needs Additional Support']\n",
        "sizes = [sum(y_pred == 'Likely to Enroll'), sum(y_pred == 'Needs Additional Support')]\n",
        "colors = ['lightcoral', 'lightskyblue']\n",
        "plt.figure(figsize=(8, 8))\n",
        "#plt.pie(sizes, label=labels, colors=colors, autopct='%1.1f%%', startangle=140,autopct=1.1,0,0)\n",
        "plt.pie(sizes, labels=labels, colors=colors, autopct='%1.1f%%', startangle=140)\n",
        "plt.axis('equal')\n",
        "plt.title('Enrollment Predictions')\n",
        "plt.legend()\n",
        "plt.show()"
      ],
      "metadata": {
        "colab": {
          "base_uri": "https://localhost:8080/",
          "height": 727
        },
        "id": "Ea0EmZ-y7En1",
        "outputId": "b9adc70f-049c-4b1b-c0f0-ad771e1353ee"
      },
      "execution_count": 35,
      "outputs": [
        {
          "output_type": "stream",
          "name": "stdout",
          "text": [
            "Accuracy: 1.0\n",
            "Precision: 1.0\n",
            "Recall: 1.0\n"
          ]
        },
        {
          "output_type": "display_data",
          "data": {
            "text/plain": [
              "<Figure size 800x800 with 1 Axes>"
            ],
            "image/png": "[encoded data removed]"
          },
          "metadata": {}
        }
      ]
    }
  ]
}